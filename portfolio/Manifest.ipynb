{
 "cells": [
  {
   "cell_type": "markdown",
   "metadata": {},
   "source": [
    "# Justin Gold Portfolio\n",
    "\n",
    "## Table of Contents"
   ]
  },
  {
   "cell_type": "markdown",
   "metadata": {},
   "source": [
    "### Projects\n",
    "\n",
    "* [Project 1](http://localhost:8888/notebooks/project1.ipynb)\n",
    "    \n",
    "    Manually converting colored images to greyscale and monochrome using histogram normalization\n",
    "\n",
    "\n",
    "\n",
    "* [Project 2](http://localhost:8888/notebooks/proj2.ipynb)\n",
    "\n",
    "    Creating hybrid images based on Oliva, Torralba, and Schyns results\n",
    "\n",
    "\n",
    "* [Project 3A](http://localhost:8888/notebooks/Project3A.ipynb)\n",
    "\n",
    "    Implementing the Hough Transform for edge detection \n",
    "\n",
    "\n",
    "* [Project 3B](http://localhost:8888/notebooks/Project3B.ipynb)\n",
    "    \n",
    "    Implementing all the steps in the Canny Edge Detection\n",
    "\n",
    "\n",
    "* [Project 4](http://localhost:8888/notebooks/Project-4-Harris.ipynb)\n",
    "    \n",
    "    Implementing Harris Corner Detection\n",
    "\n",
    "* [Project 5](http://localhost:8888/notebooks/proj5.ipynb)\n",
    "    \n",
    "    Implementing Feature Detection using Harris Corner detectors and SIFT descriptors\n",
    "\n",
    "\n",
    "### Independent Work\n",
    "\n",
    "\n",
    "* [Difference of Gaussians](http://localhost:8888/notebooks/Difference%20of%20Gaussians.ipynb)\n",
    "\n",
    "    Creating a Gaussian pyramid for an image and calculating its Difference of Gaussians.\n",
    "\n",
    "\n",
    "* [Simple Live Contour Detection of Moving Vehicles from Traffic Camera](http://localhost:8888/notebooks/findingLiveContours.py) \n",
    "\n",
    "    A simple implementation of detecting moving vehicles in a video using the difference of two frames, \n",
    "    tresholding, and finding contours. [Video Used for Testing](https://www.youtube.com/watch?v=jjlBnrzSGjc)\n",
    "    \n",
    "    \n",
    "* [Simple Color Palette Window](http://localhost:8888/notebooks/SimpleColorPalette.py)\n",
    "   As the beginning of our class was mainly focused on colors, this project creates a tool to visualize the RGB spectrum. A window is created that displays different shades of RGB when a user can control each channel's [0..255] values\n",
    "    "
   ]
  },
  {
   "cell_type": "code",
   "execution_count": null,
   "metadata": {},
   "outputs": [],
   "source": []
  }
 ],
 "metadata": {
  "kernelspec": {
   "display_name": "Python 3",
   "language": "python",
   "name": "python3"
  },
  "language_info": {
   "codemirror_mode": {
    "name": "ipython",
    "version": 3
   },
   "file_extension": ".py",
   "mimetype": "text/x-python",
   "name": "python",
   "nbconvert_exporter": "python",
   "pygments_lexer": "ipython3",
   "version": "3.6.9"
  }
 },
 "nbformat": 4,
 "nbformat_minor": 2
}
