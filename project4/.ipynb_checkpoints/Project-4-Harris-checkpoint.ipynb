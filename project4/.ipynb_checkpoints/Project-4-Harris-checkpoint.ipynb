{
 "cells": [
  {
   "cell_type": "markdown",
   "metadata": {},
   "source": [
    "# Project 4: Interest Point detection via Harris\n",
    "\n",
    "The goal of this project is to implement the Harris Feature detector (described in lecture, in the textbook, and and in readings).\n",
    "\n",
    "In each case, write your algorithm code in `project4.py`, and only use this notebook for testing.\n",
    "\n",
    "## Part 1: Harris Feature Detector\n",
    "\n",
    "Recall that the steps of Harris detection are, in a nutshell:\n",
    "\n",
    "* Calculate the x derivative $I_{x}$ and the y  derivative $I_{y}$ of the image using a simple Sobel (3x3 window)\n",
    "* Given those new derivative values (which are 2D arrays just like your image, calculate three new arrays: \n",
    "    * $I_{xx} = I_{x} * I_{x}$\n",
    "    * $I_{xy} = I_{x} * I_{y}$\n",
    "    * $I_{yy} = I_{y} * I_{y}$\n",
    "    * (hint: these are very simple)\n",
    "* Convolve each image above with a gaussian kernel (window 5), to produce new arrays \n",
    "    * $\\langle I_{xx} \\rangle$\n",
    "    * $\\langle I_{xy} \\rangle$\n",
    "    * $\\langle I_{yy} \\rangle$\n",
    "* Now ,for every coordinate in your image, calculate the following structure tensor:\n",
    "\n",
    "$\n",
    "\\begin{bmatrix}\n",
    "\\langle I_{xx} \\rangle & \\langle I_{xy} \\rangle \\\\\n",
    "\\langle I_{yx} \\rangle & \\langle I_{yy} \\rangle \\\\\n",
    "\\end{bmatrix}\n",
    "$\n",
    "\n",
    "* Now, for each pixel in your output image (same dimensions as your input image),  calculate:\n",
    "\n",
    "$ R = Det(A) - k*Trace(A)^{2} $\n",
    "\n",
    "\n",
    "(use k = 0.04)\n",
    "\n",
    "* once you have your array of R values, threshold them to only keep values within 1% of the max R in your image.\n",
    "\n"
   ]
  },
  {
   "cell_type": "code",
   "execution_count": 1,
   "metadata": {},
   "outputs": [],
   "source": [
    "import cv2\n",
    "import matplotlib.pyplot as plt\n",
    "import matplotlib.patches as patches\n",
    "import numpy as np"
   ]
  },
  {
   "cell_type": "markdown",
   "metadata": {},
   "source": [
    "### Harris Testing \n",
    "\n",
    "* This code will find interest points on the sample image from the slides and then draw red dots on top of the interest points. "
   ]
  },
  {
   "cell_type": "code",
   "execution_count": 2,
   "metadata": {},
   "outputs": [
    {
     "data": {
      "text/plain": [
       "<matplotlib.image.AxesImage at 0x7f3aa6c01190>"
      ]
     },
     "execution_count": 2,
     "metadata": {},
     "output_type": "execute_result"
    },
    {
     "data": {
      "image/png": "[encoded data removed]",
      "text/plain": [
       "<Figure size 720x1440 with 1 Axes>"
      ]
     },
     "metadata": {
      "needs_background": "light"
     },
     "output_type": "display_data"
    }
   ],
   "source": [
    "\n",
    "from project4 import *\n",
    "plt.rcParams[\"figure.figsize\"] = (10,20)\n",
    "\n",
    "img = cv2.imread('testimage.pgm')\n",
    "Responses = HarrisDetector(img)\n",
    "img[Responses>0.01*Responses.max()]=[255,0,0]\n",
    "plt.imshow(img)\n",
    "\n",
    "        "
   ]
  },
  {
   "cell_type": "markdown",
   "metadata": {},
   "source": [
    "## Part 2: non-maximal suppression \n",
    "\n",
    "The results of your harris detector probably find way too many features, even for a simple test image.  To reduce the number, use the non-maximal suppression algorithm described in lecture, slides, and in the comments of `project4.py`.\n",
    "\n",
    "The idea is to only detect features that are both local maxima and whose response value is significantly (10%)   greater than that of all of its neighbors within a radius r."
   ]
  },
  {
   "cell_type": "code",
   "execution_count": 3,
   "metadata": {},
   "outputs": [
    {
     "data": {
      "image/png": "[encoded data removed]",
      "text/plain": [
       "<Figure size 720x1440 with 1 Axes>"
      ]
     },
     "metadata": {
      "needs_background": "light"
     },
     "output_type": "display_data"
    }
   ],
   "source": [
    "# write your own testing code below.\n",
    "# modify as needed\n",
    "# be sure to display your results somehow!  I recommend drawing boxes over keypoints.\n",
    "img = cv2.imread('testimage.pgm')\n",
    "\n",
    "xvals,yvals = SuppressNonMax(Responses,14)\n",
    "fig,ax = plt.subplots(1)\n",
    "ax.imshow(img)\n",
    "\n",
    "\n",
    "for i in range(len(xvals)):\n",
    "    rect = patches.Rectangle((xvals[i]-20,yvals[i]-20),40,30,linewidth=1,edgecolor='r',facecolor='none')\n",
    "    ax.add_patch(rect)"
   ]
  },
  {
   "cell_type": "code",
   "execution_count": null,
   "metadata": {},
   "outputs": [],
   "source": []
  }
 ],
 "metadata": {
  "kernelspec": {
   "display_name": "Python 2",
   "language": "python",
   "name": "python2"
  },
  "language_info": {
   "codemirror_mode": {
    "name": "ipython",
    "version": 2
   },
   "file_extension": ".py",
   "mimetype": "text/x-python",
   "name": "python",
   "nbconvert_exporter": "python",
   "pygments_lexer": "ipython2",
   "version": "2.7.15+"
  }
 },
 "nbformat": 4,
 "nbformat_minor": 2
}
